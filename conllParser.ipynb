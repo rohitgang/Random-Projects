{
 "cells": [
  {
   "cell_type": "code",
   "execution_count": 1,
   "metadata": {},
   "outputs": [],
   "source": [
    "import pandas as pd\n",
    "import numpy as np\n",
    "import pickle \n",
    "import json"
   ]
  },
  {
   "cell_type": "markdown",
   "metadata": {},
   "source": [
    "## Change the psd_dir variable so that it goes to the evaluation folder in your system"
   ]
  },
  {
   "cell_type": "code",
   "execution_count": 2,
   "metadata": {},
   "outputs": [],
   "source": [
    "psd_dir = 'C:/Users/Rohit/Desktop/data/mrp/2019/evaluation/' #mrp/2019/training/psd/\n",
    "\n",
    "df = pd.read_json(psd_dir + 'input.mrp', lines=True)"
   ]
  },
  {
   "cell_type": "code",
   "execution_count": 3,
   "metadata": {},
   "outputs": [
    {
     "data": {
      "text/html": [
       "<div>\n",
       "<style scoped>\n",
       "    .dataframe tbody tr th:only-of-type {\n",
       "        vertical-align: middle;\n",
       "    }\n",
       "\n",
       "    .dataframe tbody tr th {\n",
       "        vertical-align: top;\n",
       "    }\n",
       "\n",
       "    .dataframe thead th {\n",
       "        text-align: right;\n",
       "    }\n",
       "</style>\n",
       "<table border=\"1\" class=\"dataframe\">\n",
       "  <thead>\n",
       "    <tr style=\"text-align: right;\">\n",
       "      <th></th>\n",
       "      <th>id</th>\n",
       "      <th>input</th>\n",
       "      <th>source</th>\n",
       "      <th>targets</th>\n",
       "      <th>time</th>\n",
       "      <th>version</th>\n",
       "    </tr>\n",
       "  </thead>\n",
       "  <tbody>\n",
       "    <tr>\n",
       "      <th>0</th>\n",
       "      <td>102990</td>\n",
       "      <td>I was very much worried, for it was becoming c...</td>\n",
       "      <td>lpps</td>\n",
       "      <td>[dm, psd, eds, ucca, amr]</td>\n",
       "      <td>2019-06-23</td>\n",
       "      <td>1</td>\n",
       "    </tr>\n",
       "    <tr>\n",
       "      <th>1</th>\n",
       "      <td>103610</td>\n",
       "      <td>I will draw you a railing to put around your f...</td>\n",
       "      <td>lpps</td>\n",
       "      <td>[dm, psd, eds, ucca, amr]</td>\n",
       "      <td>2019-06-23</td>\n",
       "      <td>1</td>\n",
       "    </tr>\n",
       "    <tr>\n",
       "      <th>2</th>\n",
       "      <td>103780</td>\n",
       "      <td>She adjusted her petals one by one.</td>\n",
       "      <td>lpps</td>\n",
       "      <td>[dm, psd, eds, ucca, amr]</td>\n",
       "      <td>2019-06-23</td>\n",
       "      <td>1</td>\n",
       "    </tr>\n",
       "    <tr>\n",
       "      <th>3</th>\n",
       "      <td>103840</td>\n",
       "      <td>Then one morning, exactly at sunrise, she sudd...</td>\n",
       "      <td>lpps</td>\n",
       "      <td>[dm, psd, eds, ucca, amr]</td>\n",
       "      <td>2019-06-23</td>\n",
       "      <td>1</td>\n",
       "    </tr>\n",
       "    <tr>\n",
       "      <th>4</th>\n",
       "      <td>103920</td>\n",
       "      <td>\"And I was born at the same moment as the sun ...</td>\n",
       "      <td>lpps</td>\n",
       "      <td>[dm, psd, eds, ucca, amr]</td>\n",
       "      <td>2019-06-23</td>\n",
       "      <td>1</td>\n",
       "    </tr>\n",
       "  </tbody>\n",
       "</table>\n",
       "</div>"
      ],
      "text/plain": [
       "       id                                              input source  \\\n",
       "0  102990  I was very much worried, for it was becoming c...   lpps   \n",
       "1  103610  I will draw you a railing to put around your f...   lpps   \n",
       "2  103780                She adjusted her petals one by one.   lpps   \n",
       "3  103840  Then one morning, exactly at sunrise, she sudd...   lpps   \n",
       "4  103920  \"And I was born at the same moment as the sun ...   lpps   \n",
       "\n",
       "                     targets        time  version  \n",
       "0  [dm, psd, eds, ucca, amr]  2019-06-23        1  \n",
       "1  [dm, psd, eds, ucca, amr]  2019-06-23        1  \n",
       "2  [dm, psd, eds, ucca, amr]  2019-06-23        1  \n",
       "3  [dm, psd, eds, ucca, amr]  2019-06-23        1  \n",
       "4  [dm, psd, eds, ucca, amr]  2019-06-23        1  "
      ]
     },
     "execution_count": 3,
     "metadata": {},
     "output_type": "execute_result"
    }
   ],
   "source": [
    "df.head()"
   ]
  },
  {
   "cell_type": "markdown",
   "metadata": {},
   "source": [
    "## Make sure the pickle file is in  the same directory as this notebook and make no changes to the cell below."
   ]
  },
  {
   "cell_type": "code",
   "execution_count": null,
   "metadata": {},
   "outputs": [],
   "source": [
    "with open('model_output.pkl', 'rb') as pk:\n",
    "    data= pickle.load(pk)"
   ]
  },
  {
   "cell_type": "code",
   "execution_count": 5,
   "metadata": {},
   "outputs": [
    {
     "data": {
      "text/html": [
       "<div>\n",
       "<style scoped>\n",
       "    .dataframe tbody tr th:only-of-type {\n",
       "        vertical-align: middle;\n",
       "    }\n",
       "\n",
       "    .dataframe tbody tr th {\n",
       "        vertical-align: top;\n",
       "    }\n",
       "\n",
       "    .dataframe thead th {\n",
       "        text-align: right;\n",
       "    }\n",
       "</style>\n",
       "<table border=\"1\" class=\"dataframe\">\n",
       "  <thead>\n",
       "    <tr style=\"text-align: right;\">\n",
       "      <th></th>\n",
       "      <th>edges</th>\n",
       "      <th>input</th>\n",
       "      <th>nodes</th>\n",
       "      <th>output</th>\n",
       "    </tr>\n",
       "  </thead>\n",
       "  <tbody>\n",
       "    <tr>\n",
       "      <th>0</th>\n",
       "      <td>[{'source': 12, 'target': 11, 'label': 'case'}...</td>\n",
       "      <td>I was very much worried, for it was becoming c...</td>\n",
       "      <td>[{'id': 0, 'label': 'I', 'properties': ['lemma...</td>\n",
       "      <td>{'words': ['I', 'was', 'very', 'much', 'worrie...</td>\n",
       "    </tr>\n",
       "    <tr>\n",
       "      <th>1</th>\n",
       "      <td>[{'source': 10, 'target': 9, 'label': 'nmod:po...</td>\n",
       "      <td>I will draw you a railing to put around your f...</td>\n",
       "      <td>[{'id': 0, 'label': 'I', 'properties': ['lemma...</td>\n",
       "      <td>{'words': ['I', 'will', 'draw', 'you', 'a', 'r...</td>\n",
       "    </tr>\n",
       "    <tr>\n",
       "      <th>2</th>\n",
       "      <td>[{'source': 1, 'target': 3, 'label': 'obj'}, {...</td>\n",
       "      <td>She adjusted her petals one by one.</td>\n",
       "      <td>[{'id': 0, 'label': 'She', 'properties': ['lem...</td>\n",
       "      <td>{'words': ['She', 'adjusted', 'her', 'petals',...</td>\n",
       "    </tr>\n",
       "    <tr>\n",
       "      <th>3</th>\n",
       "      <td>[{'source': 10, 'target': 8, 'label': 'nsubj'}...</td>\n",
       "      <td>Then one morning, exactly at sunrise, she sudd...</td>\n",
       "      <td>[{'id': 0, 'label': 'Then', 'properties': ['le...</td>\n",
       "      <td>{'words': ['Then', 'one', 'morning', ',', 'exa...</td>\n",
       "    </tr>\n",
       "    <tr>\n",
       "      <th>4</th>\n",
       "      <td>[{'source': 8, 'target': 11, 'label': 'nmod'},...</td>\n",
       "      <td>\"And I was born at the same moment as the sun ...</td>\n",
       "      <td>[{'id': 0, 'label': '“', 'properties': ['lemma...</td>\n",
       "      <td>{'words': ['“', 'And', 'I', 'was', 'born', 'at...</td>\n",
       "    </tr>\n",
       "  </tbody>\n",
       "</table>\n",
       "</div>"
      ],
      "text/plain": [
       "                                               edges  \\\n",
       "0  [{'source': 12, 'target': 11, 'label': 'case'}...   \n",
       "1  [{'source': 10, 'target': 9, 'label': 'nmod:po...   \n",
       "2  [{'source': 1, 'target': 3, 'label': 'obj'}, {...   \n",
       "3  [{'source': 10, 'target': 8, 'label': 'nsubj'}...   \n",
       "4  [{'source': 8, 'target': 11, 'label': 'nmod'},...   \n",
       "\n",
       "                                               input  \\\n",
       "0  I was very much worried, for it was becoming c...   \n",
       "1  I will draw you a railing to put around your f...   \n",
       "2                She adjusted her petals one by one.   \n",
       "3  Then one morning, exactly at sunrise, she sudd...   \n",
       "4  \"And I was born at the same moment as the sun ...   \n",
       "\n",
       "                                               nodes  \\\n",
       "0  [{'id': 0, 'label': 'I', 'properties': ['lemma...   \n",
       "1  [{'id': 0, 'label': 'I', 'properties': ['lemma...   \n",
       "2  [{'id': 0, 'label': 'She', 'properties': ['lem...   \n",
       "3  [{'id': 0, 'label': 'Then', 'properties': ['le...   \n",
       "4  [{'id': 0, 'label': '“', 'properties': ['lemma...   \n",
       "\n",
       "                                              output  \n",
       "0  {'words': ['I', 'was', 'very', 'much', 'worrie...  \n",
       "1  {'words': ['I', 'will', 'draw', 'you', 'a', 'r...  \n",
       "2  {'words': ['She', 'adjusted', 'her', 'petals',...  \n",
       "3  {'words': ['Then', 'one', 'morning', ',', 'exa...  \n",
       "4  {'words': ['“', 'And', 'I', 'was', 'born', 'at...  "
      ]
     },
     "execution_count": 5,
     "metadata": {},
     "output_type": "execute_result"
    }
   ],
   "source": [
    "data.head()"
   ]
  },
  {
   "cell_type": "code",
   "execution_count": 18,
   "metadata": {},
   "outputs": [
    {
     "data": {
      "text/plain": [
       "\"{'id': 0, 'label': 'I', 'properties': ['lemma', 'upos', 'xpos'], 'values': ['I', 'PRON', 'PRP']}\""
      ]
     },
     "execution_count": 18,
     "metadata": {},
     "output_type": "execute_result"
    }
   ],
   "source": [
    "str(data.nodes[0][0])"
   ]
  },
  {
   "cell_type": "code",
   "execution_count": 21,
   "metadata": {},
   "outputs": [],
   "source": [
    "example= '{\"id\": \"'+df['id'][0]+'\", \"flavor\": 0, \"framework\": \"connllu\", \"version\": 1, \"time\": \"'+df['time'][0]+'\", \"input\": \"'+ df['input'][0]+'\", \"nodes\":'"
   ]
  },
  {
   "cell_type": "code",
   "execution_count": 22,
   "metadata": {},
   "outputs": [
    {
     "data": {
      "text/plain": [
       "'{\"id\": \"102990\", \"flavor\": 0, \"framework\": \"connllu\", \"version\": 1, \"time\": \"2019-06-23\", \"input\": \"I was very much worried, for it was becoming clear to me that the breakdown of my plane was extremely serious.\", \"nodes\":'"
      ]
     },
     "execution_count": 22,
     "metadata": {},
     "output_type": "execute_result"
    }
   ],
   "source": [
    "example"
   ]
  },
  {
   "cell_type": "code",
   "execution_count": 23,
   "metadata": {},
   "outputs": [],
   "source": [
    "example= example + str(data.nodes[0])"
   ]
  },
  {
   "cell_type": "code",
   "execution_count": 24,
   "metadata": {},
   "outputs": [],
   "source": [
    "for el in data.nodes[0]:\n",
    "    example= example + str(el)"
   ]
  },
  {
   "cell_type": "code",
   "execution_count": 25,
   "metadata": {},
   "outputs": [
    {
     "data": {
      "text/plain": [
       "'{\"id\": \"102990\", \"flavor\": 0, \"framework\": \"connllu\", \"version\": 1, \"time\": \"2019-06-23\", \"input\": \"I was very much worried, for it was becoming clear to me that the breakdown of my plane was extremely serious.\", \"nodes\":[{\\'id\\': 0, \\'label\\': \\'I\\', \\'properties\\': [\\'lemma\\', \\'upos\\', \\'xpos\\'], \\'values\\': [\\'I\\', \\'PRON\\', \\'PRP\\']}, {\\'id\\': 1, \\'label\\': \\'was\\', \\'properties\\': [\\'lemma\\', \\'upos\\', \\'xpos\\'], \\'values\\': [\\'be\\', \\'VERB\\', \\'VBD\\']}, {\\'id\\': 2, \\'label\\': \\'very\\', \\'properties\\': [\\'lemma\\', \\'upos\\', \\'xpos\\'], \\'values\\': [\\'very\\', \\'ADV\\', \\'RB\\']}, {\\'id\\': 3, \\'label\\': \\'much\\', \\'properties\\': [\\'lemma\\', \\'upos\\', \\'xpos\\'], \\'values\\': [\\'much\\', \\'ADV\\', \\'RB\\']}, {\\'id\\': 4, \\'label\\': \\'worried\\', \\'properties\\': [\\'lemma\\', \\'upos\\', \\'xpos\\'], \\'values\\': [\\'worry\\', \\'VERB\\', \\'VBN\\']}, {\\'id\\': 5, \\'label\\': \\',\\', \\'properties\\': [\\'lemma\\', \\'upos\\', \\'xpos\\'], \\'values\\': [\\',\\', \\'PUNCT\\', \\',\\']}, {\\'id\\': 6, \\'label\\': \\'for\\', \\'properties\\': [\\'lemma\\', \\'upos\\', \\'xpos\\'], \\'values\\': [\\'for\\', \\'ADP\\', \\'IN\\']}, {\\'id\\': 7, \\'label\\': \\'it\\', \\'properties\\': [\\'lemma\\', \\'upos\\', \\'xpos\\'], \\'values\\': [\\'it\\', \\'PRON\\', \\'PRP\\']}, {\\'id\\': 8, \\'label\\': \\'was\\', \\'properties\\': [\\'lemma\\', \\'upos\\', \\'xpos\\'], \\'values\\': [\\'be\\', \\'AUX\\', \\'VBD\\']}, {\\'id\\': 9, \\'label\\': \\'becoming\\', \\'properties\\': [\\'lemma\\', \\'upos\\', \\'xpos\\'], \\'values\\': [\\'become\\', \\'VERB\\', \\'VBG\\']}, {\\'id\\': 10, \\'label\\': \\'clear\\', \\'properties\\': [\\'lemma\\', \\'upos\\', \\'xpos\\'], \\'values\\': [\\'clear\\', \\'ADJ\\', \\'JJ\\']}, {\\'id\\': 11, \\'label\\': \\'to\\', \\'properties\\': [\\'lemma\\', \\'upos\\', \\'xpos\\'], \\'values\\': [\\'to\\', \\'ADP\\', \\'TO\\']}, {\\'id\\': 12, \\'label\\': \\'me\\', \\'properties\\': [\\'lemma\\', \\'upos\\', \\'xpos\\'], \\'values\\': [\\'I\\', \\'PRON\\', \\'PRP\\']}, {\\'id\\': 13, \\'label\\': \\'that\\', \\'properties\\': [\\'lemma\\', \\'upos\\', \\'xpos\\'], \\'values\\': [\\'that\\', \\'SCONJ\\', \\'IN\\']}, {\\'id\\': 14, \\'label\\': \\'the\\', \\'properties\\': [\\'lemma\\', \\'upos\\', \\'xpos\\'], \\'values\\': [\\'the\\', \\'DET\\', \\'DT\\']}, {\\'id\\': 15, \\'label\\': \\'breakdown\\', \\'properties\\': [\\'lemma\\', \\'upos\\', \\'xpos\\'], \\'values\\': [\\'breakdown\\', \\'NOUN\\', \\'NN\\']}, {\\'id\\': 16, \\'label\\': \\'of\\', \\'properties\\': [\\'lemma\\', \\'upos\\', \\'xpos\\'], \\'values\\': [\\'of\\', \\'ADP\\', \\'IN\\']}, {\\'id\\': 17, \\'label\\': \\'my\\', \\'properties\\': [\\'lemma\\', \\'upos\\', \\'xpos\\'], \\'values\\': [\\'my\\', \\'PRON\\', \\'PRP$\\']}, {\\'id\\': 18, \\'label\\': \\'plane\\', \\'properties\\': [\\'lemma\\', \\'upos\\', \\'xpos\\'], \\'values\\': [\\'plane\\', \\'NOUN\\', \\'NN\\']}, {\\'id\\': 19, \\'label\\': \\'was\\', \\'properties\\': [\\'lemma\\', \\'upos\\', \\'xpos\\'], \\'values\\': [\\'be\\', \\'VERB\\', \\'VBD\\']}, {\\'id\\': 20, \\'label\\': \\'extremely\\', \\'properties\\': [\\'lemma\\', \\'upos\\', \\'xpos\\'], \\'values\\': [\\'extremely\\', \\'ADV\\', \\'RB\\']}, {\\'id\\': 21, \\'label\\': \\'serious\\', \\'properties\\': [\\'lemma\\', \\'upos\\', \\'xpos\\'], \\'values\\': [\\'serious\\', \\'ADJ\\', \\'JJ\\']}, {\\'id\\': 22, \\'label\\': \\'.\\', \\'properties\\': [\\'lemma\\', \\'upos\\', \\'xpos\\'], \\'values\\': [\\'.\\', \\'PUNCT\\', \\'.\\']}]{\\'id\\': 0, \\'label\\': \\'I\\', \\'properties\\': [\\'lemma\\', \\'upos\\', \\'xpos\\'], \\'values\\': [\\'I\\', \\'PRON\\', \\'PRP\\']}{\\'id\\': 1, \\'label\\': \\'was\\', \\'properties\\': [\\'lemma\\', \\'upos\\', \\'xpos\\'], \\'values\\': [\\'be\\', \\'VERB\\', \\'VBD\\']}{\\'id\\': 2, \\'label\\': \\'very\\', \\'properties\\': [\\'lemma\\', \\'upos\\', \\'xpos\\'], \\'values\\': [\\'very\\', \\'ADV\\', \\'RB\\']}{\\'id\\': 3, \\'label\\': \\'much\\', \\'properties\\': [\\'lemma\\', \\'upos\\', \\'xpos\\'], \\'values\\': [\\'much\\', \\'ADV\\', \\'RB\\']}{\\'id\\': 4, \\'label\\': \\'worried\\', \\'properties\\': [\\'lemma\\', \\'upos\\', \\'xpos\\'], \\'values\\': [\\'worry\\', \\'VERB\\', \\'VBN\\']}{\\'id\\': 5, \\'label\\': \\',\\', \\'properties\\': [\\'lemma\\', \\'upos\\', \\'xpos\\'], \\'values\\': [\\',\\', \\'PUNCT\\', \\',\\']}{\\'id\\': 6, \\'label\\': \\'for\\', \\'properties\\': [\\'lemma\\', \\'upos\\', \\'xpos\\'], \\'values\\': [\\'for\\', \\'ADP\\', \\'IN\\']}{\\'id\\': 7, \\'label\\': \\'it\\', \\'properties\\': [\\'lemma\\', \\'upos\\', \\'xpos\\'], \\'values\\': [\\'it\\', \\'PRON\\', \\'PRP\\']}{\\'id\\': 8, \\'label\\': \\'was\\', \\'properties\\': [\\'lemma\\', \\'upos\\', \\'xpos\\'], \\'values\\': [\\'be\\', \\'AUX\\', \\'VBD\\']}{\\'id\\': 9, \\'label\\': \\'becoming\\', \\'properties\\': [\\'lemma\\', \\'upos\\', \\'xpos\\'], \\'values\\': [\\'become\\', \\'VERB\\', \\'VBG\\']}{\\'id\\': 10, \\'label\\': \\'clear\\', \\'properties\\': [\\'lemma\\', \\'upos\\', \\'xpos\\'], \\'values\\': [\\'clear\\', \\'ADJ\\', \\'JJ\\']}{\\'id\\': 11, \\'label\\': \\'to\\', \\'properties\\': [\\'lemma\\', \\'upos\\', \\'xpos\\'], \\'values\\': [\\'to\\', \\'ADP\\', \\'TO\\']}{\\'id\\': 12, \\'label\\': \\'me\\', \\'properties\\': [\\'lemma\\', \\'upos\\', \\'xpos\\'], \\'values\\': [\\'I\\', \\'PRON\\', \\'PRP\\']}{\\'id\\': 13, \\'label\\': \\'that\\', \\'properties\\': [\\'lemma\\', \\'upos\\', \\'xpos\\'], \\'values\\': [\\'that\\', \\'SCONJ\\', \\'IN\\']}{\\'id\\': 14, \\'label\\': \\'the\\', \\'properties\\': [\\'lemma\\', \\'upos\\', \\'xpos\\'], \\'values\\': [\\'the\\', \\'DET\\', \\'DT\\']}{\\'id\\': 15, \\'label\\': \\'breakdown\\', \\'properties\\': [\\'lemma\\', \\'upos\\', \\'xpos\\'], \\'values\\': [\\'breakdown\\', \\'NOUN\\', \\'NN\\']}{\\'id\\': 16, \\'label\\': \\'of\\', \\'properties\\': [\\'lemma\\', \\'upos\\', \\'xpos\\'], \\'values\\': [\\'of\\', \\'ADP\\', \\'IN\\']}{\\'id\\': 17, \\'label\\': \\'my\\', \\'properties\\': [\\'lemma\\', \\'upos\\', \\'xpos\\'], \\'values\\': [\\'my\\', \\'PRON\\', \\'PRP$\\']}{\\'id\\': 18, \\'label\\': \\'plane\\', \\'properties\\': [\\'lemma\\', \\'upos\\', \\'xpos\\'], \\'values\\': [\\'plane\\', \\'NOUN\\', \\'NN\\']}{\\'id\\': 19, \\'label\\': \\'was\\', \\'properties\\': [\\'lemma\\', \\'upos\\', \\'xpos\\'], \\'values\\': [\\'be\\', \\'VERB\\', \\'VBD\\']}{\\'id\\': 20, \\'label\\': \\'extremely\\', \\'properties\\': [\\'lemma\\', \\'upos\\', \\'xpos\\'], \\'values\\': [\\'extremely\\', \\'ADV\\', \\'RB\\']}{\\'id\\': 21, \\'label\\': \\'serious\\', \\'properties\\': [\\'lemma\\', \\'upos\\', \\'xpos\\'], \\'values\\': [\\'serious\\', \\'ADJ\\', \\'JJ\\']}{\\'id\\': 22, \\'label\\': \\'.\\', \\'properties\\': [\\'lemma\\', \\'upos\\', \\'xpos\\'], \\'values\\': [\\'.\\', \\'PUNCT\\', \\'.\\']}'"
      ]
     },
     "execution_count": 25,
     "metadata": {},
     "output_type": "execute_result"
    }
   ],
   "source": [
    "example"
   ]
  },
  {
   "cell_type": "code",
   "execution_count": 26,
   "metadata": {},
   "outputs": [],
   "source": [
    "example= example + '\"edges\": ['\n",
    "for ed in data.edges[0]:\n",
    "    example= example + str(ed)\n",
    "example= example + ']}'"
   ]
  },
  {
   "cell_type": "code",
   "execution_count": 27,
   "metadata": {},
   "outputs": [
    {
     "data": {
      "text/plain": [
       "'{\"id\": \"102990\", \"flavor\": 0, \"framework\": \"connllu\", \"version\": 1, \"time\": \"2019-06-23\", \"input\": \"I was very much worried, for it was becoming clear to me that the breakdown of my plane was extremely serious.\", \"nodes\":[{\\'id\\': 0, \\'label\\': \\'I\\', \\'properties\\': [\\'lemma\\', \\'upos\\', \\'xpos\\'], \\'values\\': [\\'I\\', \\'PRON\\', \\'PRP\\']}, {\\'id\\': 1, \\'label\\': \\'was\\', \\'properties\\': [\\'lemma\\', \\'upos\\', \\'xpos\\'], \\'values\\': [\\'be\\', \\'VERB\\', \\'VBD\\']}, {\\'id\\': 2, \\'label\\': \\'very\\', \\'properties\\': [\\'lemma\\', \\'upos\\', \\'xpos\\'], \\'values\\': [\\'very\\', \\'ADV\\', \\'RB\\']}, {\\'id\\': 3, \\'label\\': \\'much\\', \\'properties\\': [\\'lemma\\', \\'upos\\', \\'xpos\\'], \\'values\\': [\\'much\\', \\'ADV\\', \\'RB\\']}, {\\'id\\': 4, \\'label\\': \\'worried\\', \\'properties\\': [\\'lemma\\', \\'upos\\', \\'xpos\\'], \\'values\\': [\\'worry\\', \\'VERB\\', \\'VBN\\']}, {\\'id\\': 5, \\'label\\': \\',\\', \\'properties\\': [\\'lemma\\', \\'upos\\', \\'xpos\\'], \\'values\\': [\\',\\', \\'PUNCT\\', \\',\\']}, {\\'id\\': 6, \\'label\\': \\'for\\', \\'properties\\': [\\'lemma\\', \\'upos\\', \\'xpos\\'], \\'values\\': [\\'for\\', \\'ADP\\', \\'IN\\']}, {\\'id\\': 7, \\'label\\': \\'it\\', \\'properties\\': [\\'lemma\\', \\'upos\\', \\'xpos\\'], \\'values\\': [\\'it\\', \\'PRON\\', \\'PRP\\']}, {\\'id\\': 8, \\'label\\': \\'was\\', \\'properties\\': [\\'lemma\\', \\'upos\\', \\'xpos\\'], \\'values\\': [\\'be\\', \\'AUX\\', \\'VBD\\']}, {\\'id\\': 9, \\'label\\': \\'becoming\\', \\'properties\\': [\\'lemma\\', \\'upos\\', \\'xpos\\'], \\'values\\': [\\'become\\', \\'VERB\\', \\'VBG\\']}, {\\'id\\': 10, \\'label\\': \\'clear\\', \\'properties\\': [\\'lemma\\', \\'upos\\', \\'xpos\\'], \\'values\\': [\\'clear\\', \\'ADJ\\', \\'JJ\\']}, {\\'id\\': 11, \\'label\\': \\'to\\', \\'properties\\': [\\'lemma\\', \\'upos\\', \\'xpos\\'], \\'values\\': [\\'to\\', \\'ADP\\', \\'TO\\']}, {\\'id\\': 12, \\'label\\': \\'me\\', \\'properties\\': [\\'lemma\\', \\'upos\\', \\'xpos\\'], \\'values\\': [\\'I\\', \\'PRON\\', \\'PRP\\']}, {\\'id\\': 13, \\'label\\': \\'that\\', \\'properties\\': [\\'lemma\\', \\'upos\\', \\'xpos\\'], \\'values\\': [\\'that\\', \\'SCONJ\\', \\'IN\\']}, {\\'id\\': 14, \\'label\\': \\'the\\', \\'properties\\': [\\'lemma\\', \\'upos\\', \\'xpos\\'], \\'values\\': [\\'the\\', \\'DET\\', \\'DT\\']}, {\\'id\\': 15, \\'label\\': \\'breakdown\\', \\'properties\\': [\\'lemma\\', \\'upos\\', \\'xpos\\'], \\'values\\': [\\'breakdown\\', \\'NOUN\\', \\'NN\\']}, {\\'id\\': 16, \\'label\\': \\'of\\', \\'properties\\': [\\'lemma\\', \\'upos\\', \\'xpos\\'], \\'values\\': [\\'of\\', \\'ADP\\', \\'IN\\']}, {\\'id\\': 17, \\'label\\': \\'my\\', \\'properties\\': [\\'lemma\\', \\'upos\\', \\'xpos\\'], \\'values\\': [\\'my\\', \\'PRON\\', \\'PRP$\\']}, {\\'id\\': 18, \\'label\\': \\'plane\\', \\'properties\\': [\\'lemma\\', \\'upos\\', \\'xpos\\'], \\'values\\': [\\'plane\\', \\'NOUN\\', \\'NN\\']}, {\\'id\\': 19, \\'label\\': \\'was\\', \\'properties\\': [\\'lemma\\', \\'upos\\', \\'xpos\\'], \\'values\\': [\\'be\\', \\'VERB\\', \\'VBD\\']}, {\\'id\\': 20, \\'label\\': \\'extremely\\', \\'properties\\': [\\'lemma\\', \\'upos\\', \\'xpos\\'], \\'values\\': [\\'extremely\\', \\'ADV\\', \\'RB\\']}, {\\'id\\': 21, \\'label\\': \\'serious\\', \\'properties\\': [\\'lemma\\', \\'upos\\', \\'xpos\\'], \\'values\\': [\\'serious\\', \\'ADJ\\', \\'JJ\\']}, {\\'id\\': 22, \\'label\\': \\'.\\', \\'properties\\': [\\'lemma\\', \\'upos\\', \\'xpos\\'], \\'values\\': [\\'.\\', \\'PUNCT\\', \\'.\\']}]{\\'id\\': 0, \\'label\\': \\'I\\', \\'properties\\': [\\'lemma\\', \\'upos\\', \\'xpos\\'], \\'values\\': [\\'I\\', \\'PRON\\', \\'PRP\\']}{\\'id\\': 1, \\'label\\': \\'was\\', \\'properties\\': [\\'lemma\\', \\'upos\\', \\'xpos\\'], \\'values\\': [\\'be\\', \\'VERB\\', \\'VBD\\']}{\\'id\\': 2, \\'label\\': \\'very\\', \\'properties\\': [\\'lemma\\', \\'upos\\', \\'xpos\\'], \\'values\\': [\\'very\\', \\'ADV\\', \\'RB\\']}{\\'id\\': 3, \\'label\\': \\'much\\', \\'properties\\': [\\'lemma\\', \\'upos\\', \\'xpos\\'], \\'values\\': [\\'much\\', \\'ADV\\', \\'RB\\']}{\\'id\\': 4, \\'label\\': \\'worried\\', \\'properties\\': [\\'lemma\\', \\'upos\\', \\'xpos\\'], \\'values\\': [\\'worry\\', \\'VERB\\', \\'VBN\\']}{\\'id\\': 5, \\'label\\': \\',\\', \\'properties\\': [\\'lemma\\', \\'upos\\', \\'xpos\\'], \\'values\\': [\\',\\', \\'PUNCT\\', \\',\\']}{\\'id\\': 6, \\'label\\': \\'for\\', \\'properties\\': [\\'lemma\\', \\'upos\\', \\'xpos\\'], \\'values\\': [\\'for\\', \\'ADP\\', \\'IN\\']}{\\'id\\': 7, \\'label\\': \\'it\\', \\'properties\\': [\\'lemma\\', \\'upos\\', \\'xpos\\'], \\'values\\': [\\'it\\', \\'PRON\\', \\'PRP\\']}{\\'id\\': 8, \\'label\\': \\'was\\', \\'properties\\': [\\'lemma\\', \\'upos\\', \\'xpos\\'], \\'values\\': [\\'be\\', \\'AUX\\', \\'VBD\\']}{\\'id\\': 9, \\'label\\': \\'becoming\\', \\'properties\\': [\\'lemma\\', \\'upos\\', \\'xpos\\'], \\'values\\': [\\'become\\', \\'VERB\\', \\'VBG\\']}{\\'id\\': 10, \\'label\\': \\'clear\\', \\'properties\\': [\\'lemma\\', \\'upos\\', \\'xpos\\'], \\'values\\': [\\'clear\\', \\'ADJ\\', \\'JJ\\']}{\\'id\\': 11, \\'label\\': \\'to\\', \\'properties\\': [\\'lemma\\', \\'upos\\', \\'xpos\\'], \\'values\\': [\\'to\\', \\'ADP\\', \\'TO\\']}{\\'id\\': 12, \\'label\\': \\'me\\', \\'properties\\': [\\'lemma\\', \\'upos\\', \\'xpos\\'], \\'values\\': [\\'I\\', \\'PRON\\', \\'PRP\\']}{\\'id\\': 13, \\'label\\': \\'that\\', \\'properties\\': [\\'lemma\\', \\'upos\\', \\'xpos\\'], \\'values\\': [\\'that\\', \\'SCONJ\\', \\'IN\\']}{\\'id\\': 14, \\'label\\': \\'the\\', \\'properties\\': [\\'lemma\\', \\'upos\\', \\'xpos\\'], \\'values\\': [\\'the\\', \\'DET\\', \\'DT\\']}{\\'id\\': 15, \\'label\\': \\'breakdown\\', \\'properties\\': [\\'lemma\\', \\'upos\\', \\'xpos\\'], \\'values\\': [\\'breakdown\\', \\'NOUN\\', \\'NN\\']}{\\'id\\': 16, \\'label\\': \\'of\\', \\'properties\\': [\\'lemma\\', \\'upos\\', \\'xpos\\'], \\'values\\': [\\'of\\', \\'ADP\\', \\'IN\\']}{\\'id\\': 17, \\'label\\': \\'my\\', \\'properties\\': [\\'lemma\\', \\'upos\\', \\'xpos\\'], \\'values\\': [\\'my\\', \\'PRON\\', \\'PRP$\\']}{\\'id\\': 18, \\'label\\': \\'plane\\', \\'properties\\': [\\'lemma\\', \\'upos\\', \\'xpos\\'], \\'values\\': [\\'plane\\', \\'NOUN\\', \\'NN\\']}{\\'id\\': 19, \\'label\\': \\'was\\', \\'properties\\': [\\'lemma\\', \\'upos\\', \\'xpos\\'], \\'values\\': [\\'be\\', \\'VERB\\', \\'VBD\\']}{\\'id\\': 20, \\'label\\': \\'extremely\\', \\'properties\\': [\\'lemma\\', \\'upos\\', \\'xpos\\'], \\'values\\': [\\'extremely\\', \\'ADV\\', \\'RB\\']}{\\'id\\': 21, \\'label\\': \\'serious\\', \\'properties\\': [\\'lemma\\', \\'upos\\', \\'xpos\\'], \\'values\\': [\\'serious\\', \\'ADJ\\', \\'JJ\\']}{\\'id\\': 22, \\'label\\': \\'.\\', \\'properties\\': [\\'lemma\\', \\'upos\\', \\'xpos\\'], \\'values\\': [\\'.\\', \\'PUNCT\\', \\'.\\']}\"edges\": [{\\'source\\': 12, \\'target\\': 11, \\'label\\': \\'case\\'}{\\'source\\': 15, \\'target\\': 18, \\'label\\': \\'nmod\\'}{\\'source\\': 21, \\'target\\': 19, \\'label\\': \\'cop\\'}{\\'source\\': 21, \\'target\\': 13, \\'label\\': \\'mark\\'}{\\'source\\': 9, \\'target\\': 21, \\'label\\': \\'ccomp\\'}{\\'source\\': 4, \\'target\\': 22, \\'label\\': \\'punct\\'}{\\'source\\': 18, \\'target\\': 17, \\'label\\': \\'nmod:poss\\'}{\\'source\\': 4, \\'target\\': 5, \\'label\\': \\'punct\\'}{\\'source\\': 4, \\'target\\': 1, \\'label\\': \\'aux:pass\\'}{\\'source\\': 21, \\'target\\': 20, \\'label\\': \\'advmod\\'}{\\'source\\': 4, \\'target\\': 0, \\'label\\': \\'nsubj:pass\\'}{\\'source\\': 9, \\'target\\': 8, \\'label\\': \\'aux\\'}{\\'source\\': 9, \\'target\\': 12, \\'label\\': \\'obl\\'}{\\'source\\': 4, \\'target\\': 6, \\'label\\': \\'dep\\'}{\\'source\\': 3, \\'target\\': 2, \\'label\\': \\'advmod\\'}{\\'source\\': 21, \\'target\\': 15, \\'label\\': \\'nsubj\\'}{\\'source\\': 4, \\'target\\': 3, \\'label\\': \\'advmod\\'}{\\'source\\': 9, \\'target\\': 7, \\'label\\': \\'nsubj\\'}{\\'source\\': 18, \\'target\\': 16, \\'label\\': \\'case\\'}{\\'source\\': 4, \\'target\\': 9, \\'label\\': \\'parataxis\\'}{\\'source\\': 15, \\'target\\': 14, \\'label\\': \\'det\\'}{\\'source\\': 9, \\'target\\': 10, \\'label\\': \\'xcomp\\'}]}'"
      ]
     },
     "execution_count": 27,
     "metadata": {},
     "output_type": "execute_result"
    }
   ],
   "source": [
    "example"
   ]
  },
  {
   "cell_type": "code",
   "execution_count": 19,
   "metadata": {},
   "outputs": [],
   "source": [
    "output= list()\n",
    "example= ''\n",
    "for i in range(len(df)) :\n",
    "    example= '%%{\"id\": \"'+df['id'][i]+'\", \"flavor\": 0, \"framework\": \"psd\", \"version\": 1.0, \"time\": \"'+df['time'][i]+'\", \"input\": \"' #+ df['input'][i]+'\", \"nodes\":['\n",
    "    startIndex= df['input'][i].find('\\\"')\n",
    "    INPUT= ''\n",
    "    if startIndex != -1:\n",
    "        endIndex = temp.find('\\\"', startIndex + 1)\n",
    "        if startIndex != -1 and endIndex != -1:\n",
    "            INPUT= df['input'][i][:startIndex] + '\\' + df['input'][i][startIndex:]\n",
    "            INPUT= INPUT[:endIndex] + '\\' + INPUT[endIndex:]\n",
    "            example= example + INPUT + '\",  \"nodes\":['\n",
    "    else : \n",
    "        example= example + df['input'][i] + '\",  \"nodes\":['\n",
    "    for el in data.nodes[i]:\n",
    "        for dict_ in el : \n",
    "            example= example + str(dict_)+ ','\n",
    "        \n",
    "    example= example + '], \"edges\": ['\n",
    "    \n",
    "    for ed in data.edges[i]:\n",
    "        example= example + json.dumps(ed)\n",
    "        example= example + ','\n",
    "    example= example[:-1]\n",
    "    example= example + ']}%%%'\n",
    "    output.append(example)\n",
    "    example= ''"
   ]
  },
  {
   "cell_type": "code",
   "execution_count": 20,
   "metadata": {},
   "outputs": [],
   "source": [
    "with open('output_Rohit.mrp', 'w') as f:\n",
    "        for el in output:\n",
    "            f.write(json.dumps(el))"
   ]
  },
  {
   "cell_type": "code",
   "execution_count": null,
   "metadata": {},
   "outputs": [],
   "source": []
  }
 ],
 "metadata": {
  "kernelspec": {
   "display_name": "Python 3",
   "language": "python",
   "name": "python3"
  },
  "language_info": {
   "codemirror_mode": {
    "name": "ipython",
    "version": 3
   },
   "file_extension": ".py",
   "mimetype": "text/x-python",
   "name": "python",
   "nbconvert_exporter": "python",
   "pygments_lexer": "ipython3",
   "version": "3.7.3"
  }
 },
 "nbformat": 4,
 "nbformat_minor": 2
}
