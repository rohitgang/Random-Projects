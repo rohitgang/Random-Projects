{
 "cells": [
  {
   "cell_type": "code",
   "execution_count": 2,
   "metadata": {},
   "outputs": [],
   "source": [
    "import pandas as pd\n",
    "import numpy as np"
   ]
  },
  {
   "cell_type": "code",
   "execution_count": 3,
   "metadata": {},
   "outputs": [],
   "source": [
    "df= pd.read_csv('C:/Users/rgangurde/Documents/ddt217.csv')"
   ]
  },
  {
   "cell_type": "code",
   "execution_count": 4,
   "metadata": {},
   "outputs": [
    {
     "data": {
      "text/html": [
       "<div>\n",
       "<style scoped>\n",
       "    .dataframe tbody tr th:only-of-type {\n",
       "        vertical-align: middle;\n",
       "    }\n",
       "\n",
       "    .dataframe tbody tr th {\n",
       "        vertical-align: top;\n",
       "    }\n",
       "\n",
       "    .dataframe thead th {\n",
       "        text-align: right;\n",
       "    }\n",
       "</style>\n",
       "<table border=\"1\" class=\"dataframe\">\n",
       "  <thead>\n",
       "    <tr style=\"text-align: right;\">\n",
       "      <th></th>\n",
       "      <th>Date_Time</th>\n",
       "      <th>Segment_ID</th>\n",
       "      <th>UTC_Date_Time</th>\n",
       "      <th>Speed_miles_hour_</th>\n",
       "      <th>Hist_Av_Speed_miles_hour_</th>\n",
       "      <th>Ref_Speed_miles_hour_</th>\n",
       "      <th>Travel_Time_Minutes_</th>\n",
       "      <th>CValue</th>\n",
       "      <th>Pct_Score30</th>\n",
       "      <th>Pct_Score20</th>\n",
       "      <th>Pct_Score10</th>\n",
       "      <th>Road_Closure</th>\n",
       "    </tr>\n",
       "  </thead>\n",
       "  <tbody>\n",
       "    <tr>\n",
       "      <th>0</th>\n",
       "      <td>2017-02-22 11:55:00.000</td>\n",
       "      <td>1187531710</td>\n",
       "      <td>2017-02-22 11:55:00.000</td>\n",
       "      <td>24.0</td>\n",
       "      <td>21.0</td>\n",
       "      <td>24.0</td>\n",
       "      <td>1.28</td>\n",
       "      <td>100.0</td>\n",
       "      <td>100.0</td>\n",
       "      <td>0.0</td>\n",
       "      <td>0.0</td>\n",
       "      <td>F</td>\n",
       "    </tr>\n",
       "    <tr>\n",
       "      <th>1</th>\n",
       "      <td>2017-02-22 12:00:00.000</td>\n",
       "      <td>1187531710</td>\n",
       "      <td>2017-02-22 12:00:00.000</td>\n",
       "      <td>21.0</td>\n",
       "      <td>20.0</td>\n",
       "      <td>24.0</td>\n",
       "      <td>1.45</td>\n",
       "      <td>100.0</td>\n",
       "      <td>100.0</td>\n",
       "      <td>0.0</td>\n",
       "      <td>0.0</td>\n",
       "      <td>F</td>\n",
       "    </tr>\n",
       "    <tr>\n",
       "      <th>2</th>\n",
       "      <td>2017-02-22 12:05:00.000</td>\n",
       "      <td>1187531710</td>\n",
       "      <td>2017-02-22 12:05:00.000</td>\n",
       "      <td>26.0</td>\n",
       "      <td>20.0</td>\n",
       "      <td>24.0</td>\n",
       "      <td>1.20</td>\n",
       "      <td>100.0</td>\n",
       "      <td>100.0</td>\n",
       "      <td>0.0</td>\n",
       "      <td>0.0</td>\n",
       "      <td>F</td>\n",
       "    </tr>\n",
       "    <tr>\n",
       "      <th>3</th>\n",
       "      <td>2017-02-22 12:10:00.000</td>\n",
       "      <td>1187531710</td>\n",
       "      <td>2017-02-22 12:10:00.000</td>\n",
       "      <td>27.0</td>\n",
       "      <td>20.0</td>\n",
       "      <td>24.0</td>\n",
       "      <td>1.12</td>\n",
       "      <td>100.0</td>\n",
       "      <td>100.0</td>\n",
       "      <td>0.0</td>\n",
       "      <td>0.0</td>\n",
       "      <td>F</td>\n",
       "    </tr>\n",
       "    <tr>\n",
       "      <th>4</th>\n",
       "      <td>2017-02-22 12:15:00.000</td>\n",
       "      <td>1187531710</td>\n",
       "      <td>2017-02-22 12:15:00.000</td>\n",
       "      <td>27.0</td>\n",
       "      <td>20.0</td>\n",
       "      <td>24.0</td>\n",
       "      <td>1.12</td>\n",
       "      <td>100.0</td>\n",
       "      <td>100.0</td>\n",
       "      <td>0.0</td>\n",
       "      <td>0.0</td>\n",
       "      <td>F</td>\n",
       "    </tr>\n",
       "  </tbody>\n",
       "</table>\n",
       "</div>"
      ],
      "text/plain": [
       "                 Date_Time  Segment_ID            UTC_Date_Time  \\\n",
       "0  2017-02-22 11:55:00.000  1187531710  2017-02-22 11:55:00.000   \n",
       "1  2017-02-22 12:00:00.000  1187531710  2017-02-22 12:00:00.000   \n",
       "2  2017-02-22 12:05:00.000  1187531710  2017-02-22 12:05:00.000   \n",
       "3  2017-02-22 12:10:00.000  1187531710  2017-02-22 12:10:00.000   \n",
       "4  2017-02-22 12:15:00.000  1187531710  2017-02-22 12:15:00.000   \n",
       "\n",
       "   Speed_miles_hour_  Hist_Av_Speed_miles_hour_  Ref_Speed_miles_hour_  \\\n",
       "0               24.0                       21.0                   24.0   \n",
       "1               21.0                       20.0                   24.0   \n",
       "2               26.0                       20.0                   24.0   \n",
       "3               27.0                       20.0                   24.0   \n",
       "4               27.0                       20.0                   24.0   \n",
       "\n",
       "   Travel_Time_Minutes_  CValue  Pct_Score30  Pct_Score20  Pct_Score10  \\\n",
       "0                  1.28   100.0        100.0          0.0          0.0   \n",
       "1                  1.45   100.0        100.0          0.0          0.0   \n",
       "2                  1.20   100.0        100.0          0.0          0.0   \n",
       "3                  1.12   100.0        100.0          0.0          0.0   \n",
       "4                  1.12   100.0        100.0          0.0          0.0   \n",
       "\n",
       "  Road_Closure  \n",
       "0            F  \n",
       "1            F  \n",
       "2            F  \n",
       "3            F  \n",
       "4            F  "
      ]
     },
     "execution_count": 4,
     "metadata": {},
     "output_type": "execute_result"
    }
   ],
   "source": [
    "df.head()"
   ]
  },
  {
   "cell_type": "code",
   "execution_count": 8,
   "metadata": {},
   "outputs": [
    {
     "data": {
      "text/plain": [
       "Date_Time                     object\n",
       "Segment_ID                     int64\n",
       "UTC_Date_Time                 object\n",
       "Speed_miles_hour_            float64\n",
       "Hist_Av_Speed_miles_hour_    float64\n",
       "Ref_Speed_miles_hour_        float64\n",
       "Travel_Time_Minutes_         float64\n",
       "CValue                       float64\n",
       "Pct_Score30                  float64\n",
       "Pct_Score20                  float64\n",
       "Pct_Score10                  float64\n",
       "Road_Closure                  object\n",
       "dtype: object"
      ]
     },
     "execution_count": 8,
     "metadata": {},
     "output_type": "execute_result"
    }
   ],
   "source": [
    "df.dtypes"
   ]
  },
  {
   "cell_type": "code",
   "execution_count": 9,
   "metadata": {},
   "outputs": [],
   "source": [
    "def segmentAvg (segID):\n",
    "    segSum= float(0)\n",
    "    segCount= 0\n",
    "    for i in range(len(df)):\n",
    "        if df['Segment_ID'][i] == segID:\n",
    "            segSum= segSum + df['Speed_miles_hour_'][i]\n",
    "            segCount+= 1\n",
    "    \n",
    "    avg_= segSum / segCount\n",
    "    print('Average Speed mph for segment', segID, ' is',avg_)"
   ]
  },
  {
   "cell_type": "code",
   "execution_count": 10,
   "metadata": {},
   "outputs": [
    {
     "name": "stdout",
     "output_type": "stream",
     "text": [
      "Average Speed mph for segment 1187531710  is 20.744099953725126\n"
     ]
    }
   ],
   "source": [
    "segmentAvg(1187531710)\n"
   ]
  },
  {
   "cell_type": "code",
   "execution_count": 13,
   "metadata": {},
   "outputs": [],
   "source": [
    "X_= df[['Speed_miles_hour_','Hist_Av_Speed_miles_hour_','Ref_Speed_miles_hour_', 'Travel_Time_Minutes_', 'CValue', 'Pct_Score30','Pct_Score20','Pct_Score10']].values"
   ]
  },
  {
   "cell_type": "code",
   "execution_count": 16,
   "metadata": {},
   "outputs": [
    {
     "data": {
      "text/plain": [
       "array([[ 24.,  21.,  24., ..., 100.,   0.,   0.],\n",
       "       [ 21.,  20.,  24., ..., 100.,   0.,   0.],\n",
       "       [ 26.,  20.,  24., ..., 100.,   0.,   0.],\n",
       "       ...,\n",
       "       [ 69.,  60.,  60., ..., 100.,   0.,   0.],\n",
       "       [ 58.,  61.,  60., ..., 100.,   0.,   0.],\n",
       "       [ nan,  nan,  nan, ...,  nan,  nan,  nan]])"
      ]
     },
     "execution_count": 16,
     "metadata": {},
     "output_type": "execute_result"
    }
   ],
   "source": [
    "# X_= np.asarray(X_)\n",
    "X_"
   ]
  },
  {
   "cell_type": "code",
   "execution_count": 14,
   "metadata": {},
   "outputs": [
    {
     "data": {
      "text/plain": [
       "(8725118, 8)"
      ]
     },
     "execution_count": 14,
     "metadata": {},
     "output_type": "execute_result"
    }
   ],
   "source": [
    "X_.shape\n",
    "# X_= X_.reshape(8725118,8)"
   ]
  },
  {
   "cell_type": "code",
   "execution_count": 23,
   "metadata": {},
   "outputs": [
    {
     "name": "stdout",
     "output_type": "stream",
     "text": [
      "21.0\n",
      "8725118\n"
     ]
    }
   ],
   "source": [
    "print(X_[0,1])\n",
    "print(len(X_[:]))"
   ]
  },
  {
   "cell_type": "code",
   "execution_count": 18,
   "metadata": {},
   "outputs": [],
   "source": [
    "avgHist_= np.nanmean(np.asanyarray(df['Hist_Av_Speed_miles_hour_']))\n",
    "avgSpeed_= np.nanmean(np.asanyarray(df['Speed_miles_hour_']))\n",
    "avgRef_= np.nanmean(np.asanyarray(df['Ref_Speed_miles_hour_']))\n",
    "avgTime_= np.nanmean(np.asanyarray(df['Travel_Time_Minutes_']))\n",
    "avgCval_= np.nanmean(np.asanyarray(df['CValue']))\n",
    "avgPct30_= np.nanmean(np.asanyarray(df['Pct_Score30']))\n",
    "avgPct20_= np.nanmean(np.asanyarray(df['Pct_Score20']))\n",
    "avgPct10_= np.nanmean(np.asanyarray(df['Pct_Score10']))\n",
    "\n",
    "avgTotal= (avgHist_+avgSpeed_+avgTime_+avgCval_+avgPct10_+avgPct20_+avgPct30_+avgRef_)/8"
   ]
  },
  {
   "cell_type": "code",
   "execution_count": 24,
   "metadata": {},
   "outputs": [],
   "source": [
    "import math\n",
    "\n",
    "for i in range(8725118):\n",
    "       for j in range(len(X_[0,:])):\n",
    "             if math.isnan(X_[i,j]):\n",
    "                X_[i,j]= avgTotal"
   ]
  },
  {
   "cell_type": "code",
   "execution_count": 21,
   "metadata": {},
   "outputs": [],
   "source": [
    "from sklearn.cluster import KMeans\n",
    "\n",
    "model= KMeans(init= 'k-means++', n_clusters= 2, n_init= 5)"
   ]
  },
  {
   "cell_type": "code",
   "execution_count": 25,
   "metadata": {},
   "outputs": [
    {
     "data": {
      "text/plain": [
       "KMeans(algorithm='auto', copy_x=True, init='k-means++', max_iter=300,\n",
       "    n_clusters=2, n_init=5, n_jobs=None, precompute_distances='auto',\n",
       "    random_state=None, tol=0.0001, verbose=0)"
      ]
     },
     "execution_count": 25,
     "metadata": {},
     "output_type": "execute_result"
    }
   ],
   "source": [
    "model.fit(X_)"
   ]
  },
  {
   "cell_type": "code",
   "execution_count": 26,
   "metadata": {},
   "outputs": [],
   "source": [
    "labels= model.labels_"
   ]
  },
  {
   "cell_type": "code",
   "execution_count": 27,
   "metadata": {},
   "outputs": [
    {
     "data": {
      "text/plain": [
       "array([0, 0, 0, ..., 1, 1, 0])"
      ]
     },
     "execution_count": 27,
     "metadata": {},
     "output_type": "execute_result"
    }
   ],
   "source": [
    "labels"
   ]
  },
  {
   "cell_type": "code",
   "execution_count": 28,
   "metadata": {},
   "outputs": [
    {
     "data": {
      "text/plain": [
       "(8725118,)"
      ]
     },
     "execution_count": 28,
     "metadata": {},
     "output_type": "execute_result"
    }
   ],
   "source": [
    "labels.shape"
   ]
  },
  {
   "cell_type": "code",
   "execution_count": 29,
   "metadata": {},
   "outputs": [],
   "source": [
    "df['Cluster']= labels"
   ]
  },
  {
   "cell_type": "code",
   "execution_count": 39,
   "metadata": {},
   "outputs": [
    {
     "data": {
      "text/html": [
       "<div>\n",
       "<style scoped>\n",
       "    .dataframe tbody tr th:only-of-type {\n",
       "        vertical-align: middle;\n",
       "    }\n",
       "\n",
       "    .dataframe tbody tr th {\n",
       "        vertical-align: top;\n",
       "    }\n",
       "\n",
       "    .dataframe thead th {\n",
       "        text-align: right;\n",
       "    }\n",
       "</style>\n",
       "<table border=\"1\" class=\"dataframe\">\n",
       "  <thead>\n",
       "    <tr style=\"text-align: right;\">\n",
       "      <th></th>\n",
       "      <th>Date_Time</th>\n",
       "      <th>Segment_ID</th>\n",
       "      <th>UTC_Date_Time</th>\n",
       "      <th>Speed_miles_hour_</th>\n",
       "      <th>Hist_Av_Speed_miles_hour_</th>\n",
       "      <th>Ref_Speed_miles_hour_</th>\n",
       "      <th>Travel_Time_Minutes_</th>\n",
       "      <th>CValue</th>\n",
       "      <th>Pct_Score30</th>\n",
       "      <th>Pct_Score20</th>\n",
       "      <th>Pct_Score10</th>\n",
       "      <th>Road_Closure</th>\n",
       "      <th>Cluster</th>\n",
       "    </tr>\n",
       "  </thead>\n",
       "  <tbody>\n",
       "    <tr>\n",
       "      <th>0</th>\n",
       "      <td>2017-02-22 11:55:00.000</td>\n",
       "      <td>1187531710</td>\n",
       "      <td>2017-02-22 11:55:00.000</td>\n",
       "      <td>24.0</td>\n",
       "      <td>21.0</td>\n",
       "      <td>24.0</td>\n",
       "      <td>1.28</td>\n",
       "      <td>100.0</td>\n",
       "      <td>100.0</td>\n",
       "      <td>0.0</td>\n",
       "      <td>0.0</td>\n",
       "      <td>F</td>\n",
       "      <td>0</td>\n",
       "    </tr>\n",
       "    <tr>\n",
       "      <th>1</th>\n",
       "      <td>2017-02-22 12:00:00.000</td>\n",
       "      <td>1187531710</td>\n",
       "      <td>2017-02-22 12:00:00.000</td>\n",
       "      <td>21.0</td>\n",
       "      <td>20.0</td>\n",
       "      <td>24.0</td>\n",
       "      <td>1.45</td>\n",
       "      <td>100.0</td>\n",
       "      <td>100.0</td>\n",
       "      <td>0.0</td>\n",
       "      <td>0.0</td>\n",
       "      <td>F</td>\n",
       "      <td>0</td>\n",
       "    </tr>\n",
       "    <tr>\n",
       "      <th>2</th>\n",
       "      <td>2017-02-22 12:05:00.000</td>\n",
       "      <td>1187531710</td>\n",
       "      <td>2017-02-22 12:05:00.000</td>\n",
       "      <td>26.0</td>\n",
       "      <td>20.0</td>\n",
       "      <td>24.0</td>\n",
       "      <td>1.20</td>\n",
       "      <td>100.0</td>\n",
       "      <td>100.0</td>\n",
       "      <td>0.0</td>\n",
       "      <td>0.0</td>\n",
       "      <td>F</td>\n",
       "      <td>0</td>\n",
       "    </tr>\n",
       "    <tr>\n",
       "      <th>3</th>\n",
       "      <td>2017-02-22 12:10:00.000</td>\n",
       "      <td>1187531710</td>\n",
       "      <td>2017-02-22 12:10:00.000</td>\n",
       "      <td>27.0</td>\n",
       "      <td>20.0</td>\n",
       "      <td>24.0</td>\n",
       "      <td>1.12</td>\n",
       "      <td>100.0</td>\n",
       "      <td>100.0</td>\n",
       "      <td>0.0</td>\n",
       "      <td>0.0</td>\n",
       "      <td>F</td>\n",
       "      <td>0</td>\n",
       "    </tr>\n",
       "    <tr>\n",
       "      <th>4</th>\n",
       "      <td>2017-02-22 12:15:00.000</td>\n",
       "      <td>1187531710</td>\n",
       "      <td>2017-02-22 12:15:00.000</td>\n",
       "      <td>27.0</td>\n",
       "      <td>20.0</td>\n",
       "      <td>24.0</td>\n",
       "      <td>1.12</td>\n",
       "      <td>100.0</td>\n",
       "      <td>100.0</td>\n",
       "      <td>0.0</td>\n",
       "      <td>0.0</td>\n",
       "      <td>F</td>\n",
       "      <td>0</td>\n",
       "    </tr>\n",
       "  </tbody>\n",
       "</table>\n",
       "</div>"
      ],
      "text/plain": [
       "                 Date_Time  Segment_ID            UTC_Date_Time  \\\n",
       "0  2017-02-22 11:55:00.000  1187531710  2017-02-22 11:55:00.000   \n",
       "1  2017-02-22 12:00:00.000  1187531710  2017-02-22 12:00:00.000   \n",
       "2  2017-02-22 12:05:00.000  1187531710  2017-02-22 12:05:00.000   \n",
       "3  2017-02-22 12:10:00.000  1187531710  2017-02-22 12:10:00.000   \n",
       "4  2017-02-22 12:15:00.000  1187531710  2017-02-22 12:15:00.000   \n",
       "\n",
       "   Speed_miles_hour_  Hist_Av_Speed_miles_hour_  Ref_Speed_miles_hour_  \\\n",
       "0               24.0                       21.0                   24.0   \n",
       "1               21.0                       20.0                   24.0   \n",
       "2               26.0                       20.0                   24.0   \n",
       "3               27.0                       20.0                   24.0   \n",
       "4               27.0                       20.0                   24.0   \n",
       "\n",
       "   Travel_Time_Minutes_  CValue  Pct_Score30  Pct_Score20  Pct_Score10  \\\n",
       "0                  1.28   100.0        100.0          0.0          0.0   \n",
       "1                  1.45   100.0        100.0          0.0          0.0   \n",
       "2                  1.20   100.0        100.0          0.0          0.0   \n",
       "3                  1.12   100.0        100.0          0.0          0.0   \n",
       "4                  1.12   100.0        100.0          0.0          0.0   \n",
       "\n",
       "  Road_Closure  Cluster  \n",
       "0            F        0  \n",
       "1            F        0  \n",
       "2            F        0  \n",
       "3            F        0  \n",
       "4            F        0  "
      ]
     },
     "execution_count": 39,
     "metadata": {},
     "output_type": "execute_result"
    }
   ],
   "source": [
    "df.head()"
   ]
  },
  {
   "cell_type": "markdown",
   "metadata": {},
   "source": [
    "Clusters have been created. Compare and contrast the clusters with the road closures"
   ]
  },
  {
   "cell_type": "code",
   "execution_count": 31,
   "metadata": {},
   "outputs": [],
   "source": [
    "import matplotlib.pyplot as plt\n",
    "%matplotlib inline\n",
    "\n",
    "\n",
    "\n",
    "valF_= pd.DataFrame(df[df['Road_Closure']=='F'])\n",
    "valT_= pd.DataFrame(df[df['Road_Closure']== 'T'])"
   ]
  },
  {
   "cell_type": "code",
   "execution_count": 36,
   "metadata": {},
   "outputs": [
    {
     "data": {
      "text/plain": [
       "<matplotlib.collections.PathCollection at 0xcd5b400>"
      ]
     },
     "execution_count": 36,
     "metadata": {},
     "output_type": "execute_result"
    },
    {
     "data": {
      "image/png": "[encoded data removed]",
      "text/plain": [
       "<Figure size 432x288 with 1 Axes>"
      ]
     },
     "metadata": {
      "needs_background": "light"
     },
     "output_type": "display_data"
    }
   ],
   "source": [
    "plt.scatter(x= df['Road_Closure'][:8725117], y= df['Segment_ID'][:8725117], c= labels[:8725117].astype('float'))"
   ]
  },
  {
   "cell_type": "code",
   "execution_count": 38,
   "metadata": {},
   "outputs": [
    {
     "data": {
      "text/plain": [
       "<matplotlib.collections.PathCollection at 0xcda63c8>"
      ]
     },
     "execution_count": 38,
     "metadata": {},
     "output_type": "execute_result"
    },
    {
     "data": {
      "image/png": "[encoded data removed]",
      "text/plain": [
       "<Figure size 432x288 with 1 Axes>"
      ]
     },
     "metadata": {
      "needs_background": "light"
     },
     "output_type": "display_data"
    }
   ],
   "source": [
    "plt.scatter(x= df['Cluster'], y= df['Segment_ID'])"
   ]
  },
  {
   "cell_type": "code",
   "execution_count": 47,
   "metadata": {},
   "outputs": [
    {
     "data": {
      "text/html": [
       "<div>\n",
       "<style scoped>\n",
       "    .dataframe tbody tr th:only-of-type {\n",
       "        vertical-align: middle;\n",
       "    }\n",
       "\n",
       "    .dataframe tbody tr th {\n",
       "        vertical-align: top;\n",
       "    }\n",
       "\n",
       "    .dataframe thead th {\n",
       "        text-align: right;\n",
       "    }\n",
       "</style>\n",
       "<table border=\"1\" class=\"dataframe\">\n",
       "  <thead>\n",
       "    <tr style=\"text-align: right;\">\n",
       "      <th></th>\n",
       "      <th>Date_Time</th>\n",
       "      <th>Segment_ID</th>\n",
       "      <th>UTC_Date_Time</th>\n",
       "      <th>Speed_miles_hour_</th>\n",
       "      <th>Hist_Av_Speed_miles_hour_</th>\n",
       "      <th>Ref_Speed_miles_hour_</th>\n",
       "      <th>Travel_Time_Minutes_</th>\n",
       "      <th>CValue</th>\n",
       "      <th>Pct_Score30</th>\n",
       "      <th>Pct_Score20</th>\n",
       "      <th>Pct_Score10</th>\n",
       "      <th>Road_Closure</th>\n",
       "      <th>Cluster</th>\n",
       "    </tr>\n",
       "  </thead>\n",
       "  <tbody>\n",
       "    <tr>\n",
       "      <th>0</th>\n",
       "      <td>2017-02-22 11:55:00.000</td>\n",
       "      <td>1187531710</td>\n",
       "      <td>2017-02-22 11:55:00.000</td>\n",
       "      <td>24.0</td>\n",
       "      <td>21.0</td>\n",
       "      <td>24.0</td>\n",
       "      <td>1.28</td>\n",
       "      <td>100.0</td>\n",
       "      <td>100.0</td>\n",
       "      <td>0.0</td>\n",
       "      <td>0.0</td>\n",
       "      <td>F</td>\n",
       "      <td>0</td>\n",
       "    </tr>\n",
       "    <tr>\n",
       "      <th>1</th>\n",
       "      <td>2017-02-22 12:00:00.000</td>\n",
       "      <td>1187531710</td>\n",
       "      <td>2017-02-22 12:00:00.000</td>\n",
       "      <td>21.0</td>\n",
       "      <td>20.0</td>\n",
       "      <td>24.0</td>\n",
       "      <td>1.45</td>\n",
       "      <td>100.0</td>\n",
       "      <td>100.0</td>\n",
       "      <td>0.0</td>\n",
       "      <td>0.0</td>\n",
       "      <td>F</td>\n",
       "      <td>0</td>\n",
       "    </tr>\n",
       "    <tr>\n",
       "      <th>2</th>\n",
       "      <td>2017-02-22 12:05:00.000</td>\n",
       "      <td>1187531710</td>\n",
       "      <td>2017-02-22 12:05:00.000</td>\n",
       "      <td>26.0</td>\n",
       "      <td>20.0</td>\n",
       "      <td>24.0</td>\n",
       "      <td>1.20</td>\n",
       "      <td>100.0</td>\n",
       "      <td>100.0</td>\n",
       "      <td>0.0</td>\n",
       "      <td>0.0</td>\n",
       "      <td>F</td>\n",
       "      <td>0</td>\n",
       "    </tr>\n",
       "    <tr>\n",
       "      <th>3</th>\n",
       "      <td>2017-02-22 12:10:00.000</td>\n",
       "      <td>1187531710</td>\n",
       "      <td>2017-02-22 12:10:00.000</td>\n",
       "      <td>27.0</td>\n",
       "      <td>20.0</td>\n",
       "      <td>24.0</td>\n",
       "      <td>1.12</td>\n",
       "      <td>100.0</td>\n",
       "      <td>100.0</td>\n",
       "      <td>0.0</td>\n",
       "      <td>0.0</td>\n",
       "      <td>F</td>\n",
       "      <td>0</td>\n",
       "    </tr>\n",
       "    <tr>\n",
       "      <th>4</th>\n",
       "      <td>2017-02-22 12:15:00.000</td>\n",
       "      <td>1187531710</td>\n",
       "      <td>2017-02-22 12:15:00.000</td>\n",
       "      <td>27.0</td>\n",
       "      <td>20.0</td>\n",
       "      <td>24.0</td>\n",
       "      <td>1.12</td>\n",
       "      <td>100.0</td>\n",
       "      <td>100.0</td>\n",
       "      <td>0.0</td>\n",
       "      <td>0.0</td>\n",
       "      <td>F</td>\n",
       "      <td>0</td>\n",
       "    </tr>\n",
       "  </tbody>\n",
       "</table>\n",
       "</div>"
      ],
      "text/plain": [
       "                 Date_Time  Segment_ID            UTC_Date_Time  \\\n",
       "0  2017-02-22 11:55:00.000  1187531710  2017-02-22 11:55:00.000   \n",
       "1  2017-02-22 12:00:00.000  1187531710  2017-02-22 12:00:00.000   \n",
       "2  2017-02-22 12:05:00.000  1187531710  2017-02-22 12:05:00.000   \n",
       "3  2017-02-22 12:10:00.000  1187531710  2017-02-22 12:10:00.000   \n",
       "4  2017-02-22 12:15:00.000  1187531710  2017-02-22 12:15:00.000   \n",
       "\n",
       "   Speed_miles_hour_  Hist_Av_Speed_miles_hour_  Ref_Speed_miles_hour_  \\\n",
       "0               24.0                       21.0                   24.0   \n",
       "1               21.0                       20.0                   24.0   \n",
       "2               26.0                       20.0                   24.0   \n",
       "3               27.0                       20.0                   24.0   \n",
       "4               27.0                       20.0                   24.0   \n",
       "\n",
       "   Travel_Time_Minutes_  CValue  Pct_Score30  Pct_Score20  Pct_Score10  \\\n",
       "0                  1.28   100.0        100.0          0.0          0.0   \n",
       "1                  1.45   100.0        100.0          0.0          0.0   \n",
       "2                  1.20   100.0        100.0          0.0          0.0   \n",
       "3                  1.12   100.0        100.0          0.0          0.0   \n",
       "4                  1.12   100.0        100.0          0.0          0.0   \n",
       "\n",
       "  Road_Closure  Cluster  \n",
       "0            F        0  \n",
       "1            F        0  \n",
       "2            F        0  \n",
       "3            F        0  \n",
       "4            F        0  "
      ]
     },
     "execution_count": 47,
     "metadata": {},
     "output_type": "execute_result"
    }
   ],
   "source": [
    "df.head()"
   ]
  },
  {
   "cell_type": "code",
   "execution_count": null,
   "metadata": {},
   "outputs": [],
   "source": []
  }
 ],
 "metadata": {
  "kernelspec": {
   "display_name": "Python 3",
   "language": "python",
   "name": "python3"
  },
  "language_info": {
   "codemirror_mode": {
    "name": "ipython",
    "version": 3
   },
   "file_extension": ".py",
   "mimetype": "text/x-python",
   "name": "python",
   "nbconvert_exporter": "python",
   "pygments_lexer": "ipython3",
   "version": "3.7.3"
  }
 },
 "nbformat": 4,
 "nbformat_minor": 2
}
