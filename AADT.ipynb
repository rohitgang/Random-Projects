{
 "cells": [
  {
   "cell_type": "code",
   "execution_count": 1,
   "metadata": {},
   "outputs": [],
   "source": [
    "import pandas as pd"
   ]
  },
  {
   "cell_type": "code",
   "execution_count": 2,
   "metadata": {},
   "outputs": [],
   "source": [
    "df = pd.read_csv('C:/Users/rgangurde/Downloads/EpochWithLocation.txt', sep = ',')"
   ]
  },
  {
   "cell_type": "code",
   "execution_count": 3,
   "metadata": {},
   "outputs": [
    {
     "data": {
      "text/html": [
       "<div>\n",
       "<style scoped>\n",
       "    .dataframe tbody tr th:only-of-type {\n",
       "        vertical-align: middle;\n",
       "    }\n",
       "\n",
       "    .dataframe tbody tr th {\n",
       "        vertical-align: top;\n",
       "    }\n",
       "\n",
       "    .dataframe thead th {\n",
       "        text-align: right;\n",
       "    }\n",
       "</style>\n",
       "<table border=\"1\" class=\"dataframe\">\n",
       "  <thead>\n",
       "    <tr style=\"text-align: right;\">\n",
       "      <th></th>\n",
       "      <th>FID</th>\n",
       "      <th>OID_1</th>\n",
       "      <th>XDSegID</th>\n",
       "      <th>PreviousXD</th>\n",
       "      <th>NextXDSegI</th>\n",
       "      <th>FRC</th>\n",
       "      <th>RoadNumber</th>\n",
       "      <th>RoadName</th>\n",
       "      <th>LinearID</th>\n",
       "      <th>Country</th>\n",
       "      <th>...</th>\n",
       "      <th>Bearing</th>\n",
       "      <th>XDGroup</th>\n",
       "      <th>ShapeSRID</th>\n",
       "      <th>SegmentID</th>\n",
       "      <th>Field1</th>\n",
       "      <th>Segment_ID</th>\n",
       "      <th>epoch</th>\n",
       "      <th>hh</th>\n",
       "      <th>mm</th>\n",
       "      <th>speed_ave</th>\n",
       "    </tr>\n",
       "  </thead>\n",
       "  <tbody>\n",
       "    <tr>\n",
       "      <th>0</th>\n",
       "      <td>0</td>\n",
       "      <td>None</td>\n",
       "      <td>116756782</td>\n",
       "      <td>1187377796</td>\n",
       "      <td>1187516992</td>\n",
       "      <td>1</td>\n",
       "      <td>52</td>\n",
       "      <td>ID 52</td>\n",
       "      <td>None</td>\n",
       "      <td>United States of America</td>\n",
       "      <td>...</td>\n",
       "      <td>S</td>\n",
       "      <td>6266</td>\n",
       "      <td>4326</td>\n",
       "      <td>116756782</td>\n",
       "      <td>0</td>\n",
       "      <td>116756782</td>\n",
       "      <td>5</td>\n",
       "      <td>0</td>\n",
       "      <td>25</td>\n",
       "      <td>30.500000</td>\n",
       "    </tr>\n",
       "    <tr>\n",
       "      <th>1</th>\n",
       "      <td>1</td>\n",
       "      <td>None</td>\n",
       "      <td>117507690</td>\n",
       "      <td>118104172</td>\n",
       "      <td>119202035</td>\n",
       "      <td>3</td>\n",
       "      <td>26</td>\n",
       "      <td>North 26th West</td>\n",
       "      <td>None</td>\n",
       "      <td>United States of America</td>\n",
       "      <td>...</td>\n",
       "      <td>S</td>\n",
       "      <td>10727</td>\n",
       "      <td>4326</td>\n",
       "      <td>117507690</td>\n",
       "      <td>845</td>\n",
       "      <td>117507690</td>\n",
       "      <td>0</td>\n",
       "      <td>0</td>\n",
       "      <td>0</td>\n",
       "      <td>33.000000</td>\n",
       "    </tr>\n",
       "    <tr>\n",
       "      <th>2</th>\n",
       "      <td>2</td>\n",
       "      <td>None</td>\n",
       "      <td>117508471</td>\n",
       "      <td>117901399</td>\n",
       "      <td>117721001</td>\n",
       "      <td>2</td>\n",
       "      <td>None</td>\n",
       "      <td>Simco Road</td>\n",
       "      <td>None</td>\n",
       "      <td>United States of America</td>\n",
       "      <td>...</td>\n",
       "      <td>S</td>\n",
       "      <td>10730</td>\n",
       "      <td>4326</td>\n",
       "      <td>117508471</td>\n",
       "      <td>1062</td>\n",
       "      <td>117508471</td>\n",
       "      <td>26</td>\n",
       "      <td>2</td>\n",
       "      <td>10</td>\n",
       "      <td>17.000000</td>\n",
       "    </tr>\n",
       "    <tr>\n",
       "      <th>3</th>\n",
       "      <td>3</td>\n",
       "      <td>None</td>\n",
       "      <td>117503882</td>\n",
       "      <td>1187522689</td>\n",
       "      <td>1187506550</td>\n",
       "      <td>2</td>\n",
       "      <td>None</td>\n",
       "      <td>East Franklin Road</td>\n",
       "      <td>None</td>\n",
       "      <td>United States of America</td>\n",
       "      <td>...</td>\n",
       "      <td>W</td>\n",
       "      <td>10703</td>\n",
       "      <td>4326</td>\n",
       "      <td>117503882</td>\n",
       "      <td>557</td>\n",
       "      <td>117503882</td>\n",
       "      <td>0</td>\n",
       "      <td>0</td>\n",
       "      <td>0</td>\n",
       "      <td>29.571429</td>\n",
       "    </tr>\n",
       "    <tr>\n",
       "      <th>4</th>\n",
       "      <td>6</td>\n",
       "      <td>None</td>\n",
       "      <td>117516552</td>\n",
       "      <td>None</td>\n",
       "      <td>117768793</td>\n",
       "      <td>3</td>\n",
       "      <td>None</td>\n",
       "      <td>Northside Road</td>\n",
       "      <td>None</td>\n",
       "      <td>United States of America</td>\n",
       "      <td>...</td>\n",
       "      <td>S</td>\n",
       "      <td>10805</td>\n",
       "      <td>4326</td>\n",
       "      <td>117516552</td>\n",
       "      <td>1243</td>\n",
       "      <td>117516552</td>\n",
       "      <td>6</td>\n",
       "      <td>0</td>\n",
       "      <td>30</td>\n",
       "      <td>40.000000</td>\n",
       "    </tr>\n",
       "  </tbody>\n",
       "</table>\n",
       "<p>5 rows × 32 columns</p>\n",
       "</div>"
      ],
      "text/plain": [
       "   FID OID_1    XDSegID  PreviousXD  NextXDSegI  FRC RoadNumber  \\\n",
       "0    0  None  116756782  1187377796  1187516992    1         52   \n",
       "1    1  None  117507690   118104172   119202035    3         26   \n",
       "2    2  None  117508471   117901399   117721001    2       None   \n",
       "3    3  None  117503882  1187522689  1187506550    2       None   \n",
       "4    6  None  117516552        None   117768793    3       None   \n",
       "\n",
       "             RoadName LinearID                   Country  ... Bearing XDGroup  \\\n",
       "0               ID 52     None  United States of America  ...       S    6266   \n",
       "1     North 26th West     None  United States of America  ...       S   10727   \n",
       "2          Simco Road     None  United States of America  ...       S   10730   \n",
       "3  East Franklin Road     None  United States of America  ...       W   10703   \n",
       "4      Northside Road     None  United States of America  ...       S   10805   \n",
       "\n",
       "  ShapeSRID  SegmentID  Field1  Segment_ID epoch hh  mm  speed_ave  \n",
       "0      4326  116756782       0   116756782     5  0  25  30.500000  \n",
       "1      4326  117507690     845   117507690     0  0   0  33.000000  \n",
       "2      4326  117508471    1062   117508471    26  2  10  17.000000  \n",
       "3      4326  117503882     557   117503882     0  0   0  29.571429  \n",
       "4      4326  117516552    1243   117516552     6  0  30  40.000000  \n",
       "\n",
       "[5 rows x 32 columns]"
      ]
     },
     "execution_count": 3,
     "metadata": {},
     "output_type": "execute_result"
    }
   ],
   "source": [
    "df.head()"
   ]
  },
  {
   "cell_type": "code",
   "execution_count": 4,
   "metadata": {},
   "outputs": [
    {
     "data": {
      "text/plain": [
       "(19556, 32)"
      ]
     },
     "execution_count": 4,
     "metadata": {},
     "output_type": "execute_result"
    }
   ],
   "source": [
    "df.shape"
   ]
  },
  {
   "cell_type": "code",
   "execution_count": 5,
   "metadata": {},
   "outputs": [],
   "source": [
    "df_Epoch = pd.read_csv('C:/Users/rgangurde/Downloads/Data/tt2018_by_seg_by_epoch_speed_ave.csv')"
   ]
  },
  {
   "cell_type": "code",
   "execution_count": 6,
   "metadata": {},
   "outputs": [
    {
     "data": {
      "text/html": [
       "<div>\n",
       "<style scoped>\n",
       "    .dataframe tbody tr th:only-of-type {\n",
       "        vertical-align: middle;\n",
       "    }\n",
       "\n",
       "    .dataframe tbody tr th {\n",
       "        vertical-align: top;\n",
       "    }\n",
       "\n",
       "    .dataframe thead th {\n",
       "        text-align: right;\n",
       "    }\n",
       "</style>\n",
       "<table border=\"1\" class=\"dataframe\">\n",
       "  <thead>\n",
       "    <tr style=\"text-align: right;\">\n",
       "      <th></th>\n",
       "      <th>Unnamed: 0</th>\n",
       "      <th>Segment_ID</th>\n",
       "      <th>epoch</th>\n",
       "      <th>hh</th>\n",
       "      <th>mm</th>\n",
       "      <th>speed_ave</th>\n",
       "    </tr>\n",
       "  </thead>\n",
       "  <tbody>\n",
       "    <tr>\n",
       "      <th>0</th>\n",
       "      <td>0</td>\n",
       "      <td>116756782</td>\n",
       "      <td>5</td>\n",
       "      <td>0</td>\n",
       "      <td>25</td>\n",
       "      <td>30.5</td>\n",
       "    </tr>\n",
       "    <tr>\n",
       "      <th>1</th>\n",
       "      <td>1</td>\n",
       "      <td>116756782</td>\n",
       "      <td>6</td>\n",
       "      <td>0</td>\n",
       "      <td>30</td>\n",
       "      <td>30.5</td>\n",
       "    </tr>\n",
       "    <tr>\n",
       "      <th>2</th>\n",
       "      <td>2</td>\n",
       "      <td>116756782</td>\n",
       "      <td>7</td>\n",
       "      <td>0</td>\n",
       "      <td>35</td>\n",
       "      <td>30.0</td>\n",
       "    </tr>\n",
       "    <tr>\n",
       "      <th>3</th>\n",
       "      <td>3</td>\n",
       "      <td>116756782</td>\n",
       "      <td>10</td>\n",
       "      <td>0</td>\n",
       "      <td>50</td>\n",
       "      <td>29.0</td>\n",
       "    </tr>\n",
       "    <tr>\n",
       "      <th>4</th>\n",
       "      <td>4</td>\n",
       "      <td>116756782</td>\n",
       "      <td>12</td>\n",
       "      <td>1</td>\n",
       "      <td>0</td>\n",
       "      <td>31.0</td>\n",
       "    </tr>\n",
       "  </tbody>\n",
       "</table>\n",
       "</div>"
      ],
      "text/plain": [
       "   Unnamed: 0  Segment_ID  epoch  hh  mm  speed_ave\n",
       "0           0   116756782      5   0  25       30.5\n",
       "1           1   116756782      6   0  30       30.5\n",
       "2           2   116756782      7   0  35       30.0\n",
       "3           3   116756782     10   0  50       29.0\n",
       "4           4   116756782     12   1   0       31.0"
      ]
     },
     "execution_count": 6,
     "metadata": {},
     "output_type": "execute_result"
    }
   ],
   "source": [
    "df_Epoch.head()"
   ]
  },
  {
   "cell_type": "code",
   "execution_count": 7,
   "metadata": {},
   "outputs": [
    {
     "name": "stdout",
     "output_type": "stream",
     "text": [
      "4856076\n"
     ]
    }
   ],
   "source": [
    "from datetime import time\n",
    "import numpy as np\n",
    "hours= np.asanyarray(df_Epoch['hh'])\n",
    "mins= np.asanyarray(df_Epoch['mm'])\n",
    "# print(len(df_Epoch[:]))\n",
    "print(len(hours))\n",
    "hourMin = []\n",
    "for i in range(len(hours)) :\n",
    "    hourMin.append(time(hours[i], mins[i]))"
   ]
  },
  {
   "cell_type": "code",
   "execution_count": 8,
   "metadata": {},
   "outputs": [],
   "source": [
    "hourMin = np.asanyarray(hourMin)"
   ]
  },
  {
   "cell_type": "code",
   "execution_count": 10,
   "metadata": {},
   "outputs": [],
   "source": [
    "df_Epoch['Time'] = hourMin"
   ]
  },
  {
   "cell_type": "code",
   "execution_count": 11,
   "metadata": {},
   "outputs": [],
   "source": [
    "df_Epoch= df_Epoch.drop('hh', axis= 1)\n",
    "df_Epoch= df_Epoch.drop('mm', axis= 1) "
   ]
  },
  {
   "cell_type": "code",
   "execution_count": 85,
   "metadata": {},
   "outputs": [
    {
     "data": {
      "text/html": [
       "<div>\n",
       "<style scoped>\n",
       "    .dataframe tbody tr th:only-of-type {\n",
       "        vertical-align: middle;\n",
       "    }\n",
       "\n",
       "    .dataframe tbody tr th {\n",
       "        vertical-align: top;\n",
       "    }\n",
       "\n",
       "    .dataframe thead th {\n",
       "        text-align: right;\n",
       "    }\n",
       "</style>\n",
       "<table border=\"1\" class=\"dataframe\">\n",
       "  <thead>\n",
       "    <tr style=\"text-align: right;\">\n",
       "      <th></th>\n",
       "      <th>Unnamed: 0</th>\n",
       "      <th>Segment_ID</th>\n",
       "      <th>epoch</th>\n",
       "      <th>speed_ave</th>\n",
       "      <th>Time</th>\n",
       "    </tr>\n",
       "  </thead>\n",
       "  <tbody>\n",
       "    <tr>\n",
       "      <th>0</th>\n",
       "      <td>0</td>\n",
       "      <td>116756782</td>\n",
       "      <td>5</td>\n",
       "      <td>30.5</td>\n",
       "      <td>00:25:00</td>\n",
       "    </tr>\n",
       "    <tr>\n",
       "      <th>1</th>\n",
       "      <td>1</td>\n",
       "      <td>116756782</td>\n",
       "      <td>6</td>\n",
       "      <td>30.5</td>\n",
       "      <td>00:30:00</td>\n",
       "    </tr>\n",
       "    <tr>\n",
       "      <th>2</th>\n",
       "      <td>2</td>\n",
       "      <td>116756782</td>\n",
       "      <td>7</td>\n",
       "      <td>30.0</td>\n",
       "      <td>00:35:00</td>\n",
       "    </tr>\n",
       "    <tr>\n",
       "      <th>3</th>\n",
       "      <td>3</td>\n",
       "      <td>116756782</td>\n",
       "      <td>10</td>\n",
       "      <td>29.0</td>\n",
       "      <td>00:50:00</td>\n",
       "    </tr>\n",
       "    <tr>\n",
       "      <th>4</th>\n",
       "      <td>4</td>\n",
       "      <td>116756782</td>\n",
       "      <td>12</td>\n",
       "      <td>31.0</td>\n",
       "      <td>01:00:00</td>\n",
       "    </tr>\n",
       "  </tbody>\n",
       "</table>\n",
       "</div>"
      ],
      "text/plain": [
       "   Unnamed: 0  Segment_ID  epoch  speed_ave      Time\n",
       "0           0   116756782      5       30.5  00:25:00\n",
       "1           1   116756782      6       30.5  00:30:00\n",
       "2           2   116756782      7       30.0  00:35:00\n",
       "3           3   116756782     10       29.0  00:50:00\n",
       "4           4   116756782     12       31.0  01:00:00"
      ]
     },
     "execution_count": 85,
     "metadata": {},
     "output_type": "execute_result"
    }
   ],
   "source": [
    "df_Epoch.head()"
   ]
  },
  {
   "cell_type": "code",
   "execution_count": 86,
   "metadata": {},
   "outputs": [],
   "source": [
    "del Epoch"
   ]
  },
  {
   "cell_type": "code",
   "execution_count": 12,
   "metadata": {},
   "outputs": [],
   "source": [
    "df_Epoch.to_csv()"
   ]
  },
  {
   "cell_type": "code",
   "execution_count": null,
   "metadata": {},
   "outputs": [],
   "source": []
  }
 ],
 "metadata": {
  "kernelspec": {
   "display_name": "Python 3",
   "language": "python",
   "name": "python3"
  },
  "language_info": {
   "codemirror_mode": {
    "name": "ipython",
    "version": 3
   },
   "file_extension": ".py",
   "mimetype": "text/x-python",
   "name": "python",
   "nbconvert_exporter": "python",
   "pygments_lexer": "ipython3",
   "version": "3.7.3"
  }
 },
 "nbformat": 4,
 "nbformat_minor": 2
}
